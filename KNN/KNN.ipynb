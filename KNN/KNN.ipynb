{
 "cells": [
  {
   "cell_type": "code",
   "execution_count": 1,
   "metadata": {
    "id": "o296v-OeBnN0"
   },
   "outputs": [],
   "source": [
    "#Importing important Libraries\n",
    "import numpy as np\n",
    "import pandas as pd\n",
    "import math\n",
    "import random"
   ]
  },
  {
   "cell_type": "code",
   "execution_count": 2,
   "metadata": {},
   "outputs": [],
   "source": [
    "#Function for reading and converting file to a float array\n",
    "def file_to_numpy(file):\n",
    "    d = pd.read_csv(file, header = None)\n",
    "    return d.to_numpy();"
   ]
  },
  {
   "cell_type": "code",
   "execution_count": 3,
   "metadata": {
    "id": "NVigfj9GBtmZ"
   },
   "outputs": [],
   "source": [
    "#Function for calculating the Euclidean distance between two rows\n",
    "def E_Distance(row1, row2):\n",
    "    distance = 0\n",
    "    for i in range(len(row1)):\n",
    "        distance += (row1[i] - row2[i])**2\n",
    "    return math.sqrt(distance)"
   ]
  },
  {
   "cell_type": "code",
   "execution_count": 4,
   "metadata": {
    "id": "Bi6bs0oUC9RT"
   },
   "outputs": [],
   "source": [
    "#Function for returning the n nearest neighbors\n",
    "def KNN(train, test_row, n):  \n",
    "    selected = []\n",
    "    for train_row in train:\n",
    "        selected.append((train_row, E_Distance(train_row[:-1], test_row)))\n",
    "    selected.sort(key=lambda x : x[-1])\n",
    "    return selected[:n]"
   ]
  },
  {
   "cell_type": "code",
   "execution_count": 5,
   "metadata": {
    "id": "lddDMjnXIXO-"
   },
   "outputs": [],
   "source": [
    "#Function for predicting the class with the help of n nearest neighbors\n",
    "def classify_KNN(train,test,n):\n",
    "    selected = KNN(train,test,n)\n",
    "    classes = []\n",
    "    for row in selected:\n",
    "        classes.append(row[0][-1])\n",
    "    return max(classes, key=classes.count)"
   ]
  },
  {
   "cell_type": "code",
   "execution_count": 6,
   "metadata": {
    "id": "kspaCE415YTp"
   },
   "outputs": [],
   "source": [
    "#Function for dividing the dataset into R folds\n",
    "def datasetsplit(train, R):\n",
    "    split = []\n",
    "    copy = list(train)\n",
    "    foldsize = int(len(train)/R)\n",
    "    for i in range(R):\n",
    "        fold = []\n",
    "        while len(fold) < foldsize:\n",
    "            index = random.randrange(len(copy))\n",
    "            fold.append(copy.pop(index))\n",
    "        split.append(fold)\n",
    "    return split"
   ]
  },
  {
   "cell_type": "code",
   "execution_count": 7,
   "metadata": {
    "id": "24IAwuSKJhUO"
   },
   "outputs": [],
   "source": [
    "#Function for calculating the error rate of the predicted values\n",
    "def error_rate(predicted_classes, correct_set):\n",
    "    count = 0;\n",
    "    for i in range(len(predicted_classes)):\n",
    "        if (predicted_classes[i] != correct_set[i][-1]):\n",
    "            count +=1\n",
    "    return count/len(correct_set) * 100"
   ]
  },
  {
   "cell_type": "code",
   "execution_count": 8,
   "metadata": {},
   "outputs": [],
   "source": [
    "#Function for predicting multiple rows in a dataset\n",
    "def Predict_test(train,test,k):\n",
    "    predicted = []\n",
    "    for test_row in test:\n",
    "        predicted.append(classify_KNN(train,test_row,k))\n",
    "    return predicted"
   ]
  },
  {
   "cell_type": "code",
   "execution_count": 9,
   "metadata": {},
   "outputs": [],
   "source": [
    "#Funciton for converting the data into 2 dimensional data by Calculating the Area of Petal and Sepal\n",
    "def convert_to_2d(dataset):\n",
    "    new_dataset = []\n",
    "    for row in dataset:\n",
    "        new_dataset.append((row[0]*row[1], row[2]*row[3], row[4]))\n",
    "    return new_dataset"
   ]
  },
  {
   "cell_type": "code",
   "execution_count": 10,
   "metadata": {},
   "outputs": [],
   "source": [
    "#Function for R fold cross validation to calculate the optimum value of K\n",
    "def R_fold_validation(train, R, k_range):\n",
    "    folds = datasetsplit(train, R)\n",
    "    errors = []\n",
    "    g = 0\n",
    "    for f in folds:\n",
    "        training = list(folds)\n",
    "        training = training[:g] + training[g+1:]\n",
    "        train_data = []\n",
    "        for group in training:\n",
    "            for row in group:\n",
    "                train_data.append(row)\n",
    "        e = []\n",
    "        for k in range(k_range):\n",
    "            predicted = Predict_test(train_data,f,k+1)\n",
    "            e.append(error_rate(predicted, f))\n",
    "        errors.append(e)\n",
    "        g += 1\n",
    "    mean = []\n",
    "    for i in range(k_range):\n",
    "        sum = 0\n",
    "        for j in range(R):\n",
    "            sum += errors[j][i]\n",
    "            sum /= R\n",
    "        mean.append(sum)\n",
    "         \n",
    "    return mean.index(min(mean))+1"
   ]
  },
  {
   "cell_type": "code",
   "execution_count": 11,
   "metadata": {
    "id": "kWyUlqdnBv1H"
   },
   "outputs": [],
   "source": [
    "#The Data consist of the Length, Breadth of petal, sepal, and the type of the Flower \n",
    "train_data = file_to_numpy('train.csv')\n",
    "test_data = file_to_numpy('test.csv')\n",
    "\n",
    "train_data = convert_to_2d(train_data)\n",
    "test_data = convert_to_2d(test_data)\n",
    "\n",
    "K_range = 20\n",
    "R = int(len(train_data)/K_range)\n",
    "\n",
    "K = R_fold_validation(train_data, 4, 20)\n",
    "predict = Predict_test(train_data,test_data,K)"
   ]
  },
  {
   "cell_type": "code",
   "execution_count": 12,
   "metadata": {},
   "outputs": [
    {
     "name": "stdout",
     "output_type": "stream",
     "text": [
      "Optimum value of K for the dataset:  1\n",
      "Accuracy:  100 %\n",
      "Expected:  Iris-setosa , Got:  Iris-setosa\n",
      "Expected:  Iris-setosa , Got:  Iris-setosa\n",
      "Expected:  Iris-setosa , Got:  Iris-setosa\n",
      "Expected:  Iris-setosa , Got:  Iris-setosa\n",
      "Expected:  Iris-setosa , Got:  Iris-setosa\n",
      "Expected:  Iris-setosa , Got:  Iris-setosa\n",
      "Expected:  Iris-setosa , Got:  Iris-setosa\n",
      "Expected:  Iris-setosa , Got:  Iris-setosa\n",
      "Expected:  Iris-setosa , Got:  Iris-setosa\n",
      "Expected:  Iris-setosa , Got:  Iris-setosa\n",
      "Expected:  Iris-versicolor , Got:  Iris-versicolor\n",
      "Expected:  Iris-versicolor , Got:  Iris-versicolor\n",
      "Expected:  Iris-versicolor , Got:  Iris-versicolor\n",
      "Expected:  Iris-versicolor , Got:  Iris-versicolor\n",
      "Expected:  Iris-versicolor , Got:  Iris-versicolor\n",
      "Expected:  Iris-versicolor , Got:  Iris-versicolor\n",
      "Expected:  Iris-versicolor , Got:  Iris-versicolor\n",
      "Expected:  Iris-versicolor , Got:  Iris-versicolor\n",
      "Expected:  Iris-versicolor , Got:  Iris-versicolor\n",
      "Expected:  Iris-versicolor , Got:  Iris-versicolor\n"
     ]
    }
   ],
   "source": [
    "#Printing all expected and predicted values with the final accuracy rate\n",
    "print(\"Optimum value of K for the dataset: \", K)\n",
    "print(\"Accuracy: \", 100 - int(error_rate(predict,test_data)),\"%\")\n",
    "for i in range(len(test_data)):\n",
    "    print(\"Expected: \",test_data[i][-1],\", Got: \", predict[i])"
   ]
  },
  {
   "cell_type": "code",
   "execution_count": null,
   "metadata": {},
   "outputs": [],
   "source": []
  }
 ],
 "metadata": {
  "colab": {
   "collapsed_sections": [],
   "name": "KNN.ipynb",
   "provenance": []
  },
  "kernelspec": {
   "display_name": "Python 3",
   "language": "python",
   "name": "python3"
  },
  "language_info": {
   "codemirror_mode": {
    "name": "ipython",
    "version": 3
   },
   "file_extension": ".py",
   "mimetype": "text/x-python",
   "name": "python",
   "nbconvert_exporter": "python",
   "pygments_lexer": "ipython3",
   "version": "3.6.3"
  }
 },
 "nbformat": 4,
 "nbformat_minor": 1
}
