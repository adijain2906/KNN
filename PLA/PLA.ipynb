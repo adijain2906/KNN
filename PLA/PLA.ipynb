{
 "cells": [
  {
   "cell_type": "code",
   "execution_count": 1,
   "metadata": {},
   "outputs": [],
   "source": [
    "#Importing Important Libraries\n",
    "import numpy as np\n",
    "import matplotlib.pyplot as plt\n",
    "import math\n",
    "import random"
   ]
  },
  {
   "cell_type": "code",
   "execution_count": 2,
   "metadata": {},
   "outputs": [],
   "source": [
    "#Function for calculating sigmoid of a number\n",
    "def sigmoid(x):\n",
    "    return 1 / (1 + math.exp(-x))"
   ]
  },
  {
   "cell_type": "code",
   "execution_count": 3,
   "metadata": {},
   "outputs": [],
   "source": [
    "#Function for predicting the class using weights\n",
    "def predict(row,weights):   \n",
    "    activation = weights[0]\n",
    "    for i in range(len(row)):\n",
    "        activation += weights[i+1]*row[i]\n",
    "    if sigmoid(activation) >= 0.5:\n",
    "        return 0.9\n",
    "    else:\n",
    "        return 0.1"
   ]
  },
  {
   "cell_type": "code",
   "execution_count": 4,
   "metadata": {},
   "outputs": [],
   "source": [
    "#Function for calculating error rate of prediction\n",
    "def error_rate(predicted_classes, correct_set):\n",
    "    count = 0;\n",
    "    for i in range(len(predicted_classes)):\n",
    "        if (abs(predicted_classes[i] != correct_set[i][-1])):\n",
    "            count +=1\n",
    "    return count/len(correct_set) * 100"
   ]
  },
  {
   "cell_type": "code",
   "execution_count": 5,
   "metadata": {},
   "outputs": [],
   "source": [
    "#Function which trains the weights for the ANN\n",
    "def ANN(train):\n",
    "    iterations = 1000\n",
    "    Weights = []\n",
    "    for i in range(len(train[0])):\n",
    "        Weights.append(0.0)\n",
    "    alpha = 0.01\n",
    "    for t in range(iterations):\n",
    "        count = 0\n",
    "        for row in train:\n",
    "            Od = predict(row[:-1],Weights)\n",
    "            error = row[-1] - Od\n",
    "            if (error == 0):\n",
    "                count += 1\n",
    "            Weights[0] += alpha*error\n",
    "            for i in range(len(row)-1):\n",
    "                Weights[i+1] += alpha*error*row[i]\n",
    "        if (count == len(train)):\n",
    "            break\n",
    "    if (count == len(train)):\n",
    "        print(\"Training completed in\",t,\"iterations.\")\n",
    "    else:\n",
    "        print(\"Iterations Completed\")\n",
    "    return Weights"
   ]
  },
  {
   "cell_type": "code",
   "execution_count": 6,
   "metadata": {},
   "outputs": [],
   "source": [
    "#Function for predicting a number of rows using weights\n",
    "def Predict_test(test,weights):\n",
    "    predicted = []\n",
    "    for test_row in test:\n",
    "        predicted.append(predict(test_row[:-1],weights))\n",
    "    return predicted"
   ]
  },
  {
   "cell_type": "code",
   "execution_count": 7,
   "metadata": {},
   "outputs": [],
   "source": [
    "#Function for applying leave-one-out mechanism\n",
    "def Leave1out(data):\n",
    "    for i in range(len(data)):\n",
    "        test = data[i]\n",
    "        train = data[:i] + data[i+1:]\n",
    "        weights = ANN(train)\n",
    "        print(\"For point -\", test[:-1])\n",
    "        print(\"Actual -\", test[-1])\n",
    "        print(\"Prediction - \", predict(test[:-1],weights))"
   ]
  },
  {
   "cell_type": "code",
   "execution_count": 8,
   "metadata": {},
   "outputs": [],
   "source": [
    "#Function for calculating the X and Y values to build the line of the ANN\n",
    "def Line(dataset,weights):\n",
    "    X = []\n",
    "    Y = [] \n",
    "    slope = -1 * weights[1]/weights[2]\n",
    "    c = -1 * weights[0]/weights[2]\n",
    "    for row in dataset:\n",
    "        X.append(row[1])\n",
    "        Y.append(slope*row[1] + c)\n",
    "    return X,Y"
   ]
  },
  {
   "cell_type": "code",
   "execution_count": 9,
   "metadata": {},
   "outputs": [
    {
     "name": "stdout",
     "output_type": "stream",
     "text": [
      "Training completed in 5 iterations.\n",
      "Final weights - [-0.008, 0.13599999999999998, -0.168]\n",
      "Training accuracy = 100.0 %\n"
     ]
    }
   ],
   "source": [
    "#Dataset of the question\n",
    "data = [[15, 10, 0.9], [13, 6, 0.9], [14,8, 0.9], [12, 9, 0.9], [10, 7, 0.9], [12, 6, 0.9], [11, 8, 0.9], [13, 10, 0.9],[10, 6, 0.9],\n",
    "        [8, 12, 0.1], [6, 11, 0.1], [8, 14, 0.1], [9, 14, 0.1], [10, 15, 0.1], [9, 12, 0.1], [7, 10, 0.1], [8, 13, 0.1]]\n",
    "\n",
    "\n",
    "#Training the ANN with all data points\n",
    "weights = ANN(data)\n",
    "\n",
    "print(\"Final weights -\", weights)\n",
    "print(\"Training accuracy =\", (1 - error_rate(Predict_test(data,weights), data) )* 100, \"%\")"
   ]
  },
  {
   "cell_type": "code",
   "execution_count": 10,
   "metadata": {},
   "outputs": [
    {
     "name": "stdout",
     "output_type": "stream",
     "text": [
      "Training completed in 2 iterations.\n",
      "For point - [15, 10]\n",
      "Actual - 0.9\n",
      "Prediction -  0.9\n",
      "Training completed in 5 iterations.\n",
      "For point - [13, 6]\n",
      "Actual - 0.9\n",
      "Prediction -  0.9\n",
      "Training completed in 5 iterations.\n",
      "For point - [14, 8]\n",
      "Actual - 0.9\n",
      "Prediction -  0.9\n",
      "Training completed in 8 iterations.\n",
      "For point - [12, 9]\n",
      "Actual - 0.9\n",
      "Prediction -  0.9\n",
      "Training completed in 5 iterations.\n",
      "For point - [10, 7]\n",
      "Actual - 0.9\n",
      "Prediction -  0.9\n",
      "Training completed in 5 iterations.\n",
      "For point - [12, 6]\n",
      "Actual - 0.9\n",
      "Prediction -  0.9\n",
      "Training completed in 5 iterations.\n",
      "For point - [11, 8]\n",
      "Actual - 0.9\n",
      "Prediction -  0.9\n",
      "Training completed in 5 iterations.\n",
      "For point - [13, 10]\n",
      "Actual - 0.9\n",
      "Prediction -  0.9\n",
      "Training completed in 5 iterations.\n",
      "For point - [10, 6]\n",
      "Actual - 0.9\n",
      "Prediction -  0.9\n",
      "Training completed in 3 iterations.\n",
      "For point - [8, 12]\n",
      "Actual - 0.1\n",
      "Prediction -  0.1\n",
      "Training completed in 5 iterations.\n",
      "For point - [6, 11]\n",
      "Actual - 0.1\n",
      "Prediction -  0.1\n",
      "Training completed in 5 iterations.\n",
      "For point - [8, 14]\n",
      "Actual - 0.1\n",
      "Prediction -  0.1\n",
      "Training completed in 5 iterations.\n",
      "For point - [9, 14]\n",
      "Actual - 0.1\n",
      "Prediction -  0.1\n",
      "Training completed in 5 iterations.\n",
      "For point - [10, 15]\n",
      "Actual - 0.1\n",
      "Prediction -  0.1\n",
      "Training completed in 5 iterations.\n",
      "For point - [9, 12]\n",
      "Actual - 0.1\n",
      "Prediction -  0.1\n",
      "Training completed in 5 iterations.\n",
      "For point - [7, 10]\n",
      "Actual - 0.1\n",
      "Prediction -  0.1\n",
      "Training completed in 5 iterations.\n",
      "For point - [8, 13]\n",
      "Actual - 0.1\n",
      "Prediction -  0.1\n"
     ]
    }
   ],
   "source": [
    "#Application of leave-one-out mechanism\n",
    "Leave1out(data) "
   ]
  },
  {
   "cell_type": "code",
   "execution_count": 11,
   "metadata": {},
   "outputs": [
    {
     "data": {
      "image/png": "[encoded data removed]",
      "text/plain": [
       "<Figure size 432x288 with 1 Axes>"
      ]
     },
     "metadata": {
      "needs_background": "light"
     },
     "output_type": "display_data"
    }
   ],
   "source": [
    "#Graphically representing the Classes and the perceptron after training with the training dataset\n",
    "x1 = []\n",
    "x2 = []\n",
    "y1 = []\n",
    "y2 = []\n",
    "X_line, Y_line = Line(data, weights)\n",
    " \n",
    "for row in data:\n",
    "    if row[-1] == 0.9:\n",
    "        x1.append(row[0])\n",
    "        y1.append(row[1])\n",
    "    else:\n",
    "        x2.append(row[0])\n",
    "        y2.append(row[1])\n",
    "\n",
    "plt.plot(x1,y1,\"x\")\n",
    "plt.plot(x2,y2,\"x\")\n",
    "plt.plot(X_line, Y_line)\n",
    "plt.show()"
   ]
  },
  {
   "cell_type": "code",
   "execution_count": null,
   "metadata": {},
   "outputs": [],
   "source": []
  }
 ],
 "metadata": {
  "kernelspec": {
   "display_name": "Python 3",
   "language": "python",
   "name": "python3"
  },
  "language_info": {
   "codemirror_mode": {
    "name": "ipython",
    "version": 3
   },
   "file_extension": ".py",
   "mimetype": "text/x-python",
   "name": "python",
   "nbconvert_exporter": "python",
   "pygments_lexer": "ipython3",
   "version": "3.6.3"
  }
 },
 "nbformat": 4,
 "nbformat_minor": 4
}
